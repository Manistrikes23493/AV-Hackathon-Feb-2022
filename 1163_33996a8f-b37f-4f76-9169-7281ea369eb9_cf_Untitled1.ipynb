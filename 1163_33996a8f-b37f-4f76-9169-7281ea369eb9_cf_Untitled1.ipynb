{
 "cells": [
  {
   "cell_type": "code",
   "execution_count": 1,
   "id": "95b8ce11",
   "metadata": {},
   "outputs": [],
   "source": [
    "from lightgbm import LGBMRegressor\n",
    "import numpy as np\n",
    "import pandas as pd\n",
    "from sklearn.model_selection import KFold\n",
    "from sklearn.metrics import mean_squared_error, r2_score\n",
    "from sklearn.preprocessing import LabelEncoder\n",
    "from sklearn.model_selection import train_test_split\n",
    "import optuna"
   ]
  },
  {
   "cell_type": "code",
   "execution_count": 2,
   "id": "1b77b9c3",
   "metadata": {},
   "outputs": [],
   "source": [
    "train=pd.read_csv('train_0OECtn8.csv')\n",
    "test=pd.read_csv('test_1zqHu22.csv')"
   ]
  },
  {
   "cell_type": "code",
   "execution_count": 3,
   "id": "9e6f18ec",
   "metadata": {},
   "outputs": [
    {
     "data": {
      "text/html": [
       "<div>\n",
       "<style scoped>\n",
       "    .dataframe tbody tr th:only-of-type {\n",
       "        vertical-align: middle;\n",
       "    }\n",
       "\n",
       "    .dataframe tbody tr th {\n",
       "        vertical-align: top;\n",
       "    }\n",
       "\n",
       "    .dataframe thead th {\n",
       "        text-align: right;\n",
       "    }\n",
       "</style>\n",
       "<table border=\"1\" class=\"dataframe\">\n",
       "  <thead>\n",
       "    <tr style=\"text-align: right;\">\n",
       "      <th></th>\n",
       "      <th>row_id</th>\n",
       "      <th>user_id</th>\n",
       "      <th>category_id</th>\n",
       "      <th>video_id</th>\n",
       "      <th>age</th>\n",
       "      <th>gender</th>\n",
       "      <th>profession</th>\n",
       "      <th>followers</th>\n",
       "      <th>views</th>\n",
       "      <th>engagement_score</th>\n",
       "    </tr>\n",
       "  </thead>\n",
       "  <tbody>\n",
       "    <tr>\n",
       "      <th>0</th>\n",
       "      <td>1</td>\n",
       "      <td>19990</td>\n",
       "      <td>37</td>\n",
       "      <td>128</td>\n",
       "      <td>24</td>\n",
       "      <td>Male</td>\n",
       "      <td>Student</td>\n",
       "      <td>180</td>\n",
       "      <td>1000</td>\n",
       "      <td>4.33</td>\n",
       "    </tr>\n",
       "    <tr>\n",
       "      <th>1</th>\n",
       "      <td>2</td>\n",
       "      <td>5304</td>\n",
       "      <td>32</td>\n",
       "      <td>132</td>\n",
       "      <td>14</td>\n",
       "      <td>Female</td>\n",
       "      <td>Student</td>\n",
       "      <td>330</td>\n",
       "      <td>714</td>\n",
       "      <td>1.79</td>\n",
       "    </tr>\n",
       "    <tr>\n",
       "      <th>2</th>\n",
       "      <td>3</td>\n",
       "      <td>1840</td>\n",
       "      <td>12</td>\n",
       "      <td>24</td>\n",
       "      <td>19</td>\n",
       "      <td>Male</td>\n",
       "      <td>Student</td>\n",
       "      <td>180</td>\n",
       "      <td>138</td>\n",
       "      <td>4.35</td>\n",
       "    </tr>\n",
       "    <tr>\n",
       "      <th>3</th>\n",
       "      <td>4</td>\n",
       "      <td>12597</td>\n",
       "      <td>23</td>\n",
       "      <td>112</td>\n",
       "      <td>19</td>\n",
       "      <td>Male</td>\n",
       "      <td>Student</td>\n",
       "      <td>220</td>\n",
       "      <td>613</td>\n",
       "      <td>3.77</td>\n",
       "    </tr>\n",
       "    <tr>\n",
       "      <th>4</th>\n",
       "      <td>5</td>\n",
       "      <td>13626</td>\n",
       "      <td>23</td>\n",
       "      <td>112</td>\n",
       "      <td>27</td>\n",
       "      <td>Male</td>\n",
       "      <td>Working Professional</td>\n",
       "      <td>220</td>\n",
       "      <td>613</td>\n",
       "      <td>3.13</td>\n",
       "    </tr>\n",
       "    <tr>\n",
       "      <th>...</th>\n",
       "      <td>...</td>\n",
       "      <td>...</td>\n",
       "      <td>...</td>\n",
       "      <td>...</td>\n",
       "      <td>...</td>\n",
       "      <td>...</td>\n",
       "      <td>...</td>\n",
       "      <td>...</td>\n",
       "      <td>...</td>\n",
       "      <td>...</td>\n",
       "    </tr>\n",
       "    <tr>\n",
       "      <th>89192</th>\n",
       "      <td>89193</td>\n",
       "      <td>23996</td>\n",
       "      <td>15</td>\n",
       "      <td>32</td>\n",
       "      <td>25</td>\n",
       "      <td>Male</td>\n",
       "      <td>Other</td>\n",
       "      <td>340</td>\n",
       "      <td>662</td>\n",
       "      <td>3.91</td>\n",
       "    </tr>\n",
       "    <tr>\n",
       "      <th>89193</th>\n",
       "      <td>89194</td>\n",
       "      <td>20466</td>\n",
       "      <td>20</td>\n",
       "      <td>47</td>\n",
       "      <td>31</td>\n",
       "      <td>Male</td>\n",
       "      <td>Other</td>\n",
       "      <td>240</td>\n",
       "      <td>892</td>\n",
       "      <td>3.56</td>\n",
       "    </tr>\n",
       "    <tr>\n",
       "      <th>89194</th>\n",
       "      <td>89195</td>\n",
       "      <td>13655</td>\n",
       "      <td>16</td>\n",
       "      <td>97</td>\n",
       "      <td>25</td>\n",
       "      <td>Male</td>\n",
       "      <td>Student</td>\n",
       "      <td>270</td>\n",
       "      <td>462</td>\n",
       "      <td>4.23</td>\n",
       "    </tr>\n",
       "    <tr>\n",
       "      <th>89195</th>\n",
       "      <td>89196</td>\n",
       "      <td>24840</td>\n",
       "      <td>9</td>\n",
       "      <td>18</td>\n",
       "      <td>35</td>\n",
       "      <td>Male</td>\n",
       "      <td>Working Professional</td>\n",
       "      <td>230</td>\n",
       "      <td>819</td>\n",
       "      <td>3.77</td>\n",
       "    </tr>\n",
       "    <tr>\n",
       "      <th>89196</th>\n",
       "      <td>89197</td>\n",
       "      <td>27183</td>\n",
       "      <td>25</td>\n",
       "      <td>150</td>\n",
       "      <td>13</td>\n",
       "      <td>Male</td>\n",
       "      <td>Student</td>\n",
       "      <td>240</td>\n",
       "      <td>317</td>\n",
       "      <td>4.31</td>\n",
       "    </tr>\n",
       "  </tbody>\n",
       "</table>\n",
       "<p>89197 rows × 10 columns</p>\n",
       "</div>"
      ],
      "text/plain": [
       "       row_id  user_id  category_id  video_id  age  gender  \\\n",
       "0           1    19990           37       128   24    Male   \n",
       "1           2     5304           32       132   14  Female   \n",
       "2           3     1840           12        24   19    Male   \n",
       "3           4    12597           23       112   19    Male   \n",
       "4           5    13626           23       112   27    Male   \n",
       "...       ...      ...          ...       ...  ...     ...   \n",
       "89192   89193    23996           15        32   25    Male   \n",
       "89193   89194    20466           20        47   31    Male   \n",
       "89194   89195    13655           16        97   25    Male   \n",
       "89195   89196    24840            9        18   35    Male   \n",
       "89196   89197    27183           25       150   13    Male   \n",
       "\n",
       "                 profession  followers  views  engagement_score  \n",
       "0                   Student        180   1000              4.33  \n",
       "1                   Student        330    714              1.79  \n",
       "2                   Student        180    138              4.35  \n",
       "3                   Student        220    613              3.77  \n",
       "4      Working Professional        220    613              3.13  \n",
       "...                     ...        ...    ...               ...  \n",
       "89192                 Other        340    662              3.91  \n",
       "89193                 Other        240    892              3.56  \n",
       "89194               Student        270    462              4.23  \n",
       "89195  Working Professional        230    819              3.77  \n",
       "89196               Student        240    317              4.31  \n",
       "\n",
       "[89197 rows x 10 columns]"
      ]
     },
     "execution_count": 3,
     "metadata": {},
     "output_type": "execute_result"
    }
   ],
   "source": [
    "train"
   ]
  },
  {
   "cell_type": "code",
   "execution_count": 75,
   "id": "3088e8a6",
   "metadata": {},
   "outputs": [],
   "source": [
    "train1=train.copy()\n",
    "test1=test.copy()"
   ]
  },
  {
   "cell_type": "code",
   "execution_count": 76,
   "id": "4aa750ff",
   "metadata": {},
   "outputs": [
    {
     "name": "stdout",
     "output_type": "stream",
     "text": [
      "row_id 89197\n",
      "user_id 27734\n",
      "category_id 47\n",
      "video_id 175\n",
      "age 58\n",
      "gender 2\n",
      "profession 3\n",
      "followers 17\n",
      "views 43\n",
      "engagement_score 229\n"
     ]
    }
   ],
   "source": [
    "for i in train:\n",
    "    print(i,train[i].nunique())"
   ]
  },
  {
   "cell_type": "code",
   "execution_count": 77,
   "id": "b932d741",
   "metadata": {},
   "outputs": [],
   "source": [
    "# train.row_id.nunique()"
   ]
  },
  {
   "cell_type": "code",
   "execution_count": 78,
   "id": "07e29350",
   "metadata": {},
   "outputs": [],
   "source": [
    "train=train.drop(columns='row_id')\n",
    "test=test.drop(columns='row_id')"
   ]
  },
  {
   "cell_type": "code",
   "execution_count": 79,
   "id": "9581bff2",
   "metadata": {},
   "outputs": [],
   "source": [
    "target = 'engagement_score'\n",
    "categorical_cols=['gender', 'profession', 'age','user_id','followers','views']\n",
    "continous_cols=['video_id']"
   ]
  },
  {
   "cell_type": "code",
   "execution_count": null,
   "id": "329ab3ae",
   "metadata": {},
   "outputs": [],
   "source": []
  },
  {
   "cell_type": "code",
   "execution_count": 80,
   "id": "2a4cf4a9",
   "metadata": {},
   "outputs": [],
   "source": [
    "# for e in ['gender', 'profession']:\n",
    "#     le = LabelEncoder()\n",
    "#     train[e]=le.fit_transform(train[e])\n",
    "#     test[e]=le.transform(test[e])"
   ]
  },
  {
   "cell_type": "code",
   "execution_count": 81,
   "id": "bc025527",
   "metadata": {},
   "outputs": [],
   "source": [
    "# "
   ]
  },
  {
   "cell_type": "code",
   "execution_count": 82,
   "id": "37197724",
   "metadata": {},
   "outputs": [],
   "source": [
    "# train['video_id_eng_score']=train.groupby('category_id')['engagement_score'].transform('mean').fillna(0)\n",
    "# i='video_id'\n",
    "# mean_map=dict(zip(train.groupby([i])['engagement_score'].mean().reset_index()[i],train.groupby([i])['engagement_score'].mean().reset_index()['engagement_score']))\n",
    "# test['video_id_eng_score']=test[i].map(mean_map)"
   ]
  },
  {
   "cell_type": "code",
   "execution_count": 83,
   "id": "b883a1d0",
   "metadata": {},
   "outputs": [],
   "source": [
    "def categorical_univariate_transformation(train,test,cat_features=None,Target=str):\n",
    "    if cat_features!=None:\n",
    "        train1=pd.DataFrame()\n",
    "        test1=pd.DataFrame()\n",
    "        train1=train.copy()\n",
    "        test1=test.copy()\n",
    "        try:\n",
    "            cat_features=[i for i in cat_features if i not in Target]\n",
    "        except:\n",
    "            pass\n",
    "        cats=cat_features\n",
    "        a,b=np.meshgrid(cats,cats)\n",
    "        m=pd.DataFrame({'a':a.flatten(),'b':b.flatten()})\n",
    "        for i,j in zip(m['a'],m['b']):\n",
    "            if(i!=j):\n",
    "                train1[i+\"_&_\"+j]=train[i].astype(str)+\"_\"+train[j].astype(str)\n",
    "                test1[i+\"_&_\"+j]=test[i].astype(str)+\"_\"+train[j].astype(str)\n",
    "                #L.append(i+\"_&_\"+j)\n",
    "        return train1,test1\n",
    "    else:\n",
    "        pass\n"
   ]
  },
  {
   "cell_type": "code",
   "execution_count": 84,
   "id": "69313277",
   "metadata": {},
   "outputs": [],
   "source": [
    "train,test=categorical_univariate_transformation(train,test,cat_features=['gender','profession','age','followers'])"
   ]
  },
  {
   "cell_type": "code",
   "execution_count": 85,
   "id": "17b9b667",
   "metadata": {},
   "outputs": [],
   "source": [
    "colstoadd=[i for i in train.columns if '&' in i]\n"
   ]
  },
  {
   "cell_type": "code",
   "execution_count": 86,
   "id": "d73a6112",
   "metadata": {},
   "outputs": [],
   "source": [
    "for i in categorical_cols+colstoadd:\n",
    "    mean_map=dict(zip(train.groupby([i])['engagement_score'].mean().reset_index()[i],train.groupby([i])['engagement_score'].mean().reset_index()['engagement_score']))\n",
    "    train[i+'_'+'engagement_score'+'_mean']=train[i].map(mean_map)\n",
    "    test[i+'_'+'engagement_score'+'_mean']=test[i].map(mean_map)\n",
    "    max_map=dict(zip(train.groupby([i])['engagement_score'].max().reset_index()[i],train.groupby([i])['engagement_score'].max().reset_index()['engagement_score']))\n",
    "    train[i+'_'+'engagement_score'+'_max']=train[i].map(max_map)\n",
    "    test[i+'_'+'engagement_score'+'_max']=test[i].map(max_map)\n",
    "    min_map=dict(zip(train.groupby([i])['engagement_score'].min().reset_index()[i],train.groupby([i])['engagement_score'].min().reset_index()['engagement_score']))\n",
    "    train[i+'_'+'engagement_score'+'_min']=train[i].map(min_map)\n",
    "    test[i+'_'+'engagement_score'+'_min']=test[i].map(min_map)\n",
    "    std_map=dict(zip(train.groupby([i])['engagement_score'].std().reset_index()[i],train.groupby([i])['engagement_score'].std().reset_index()['engagement_score']))\n",
    "    train[i+'_'+'engagement_score'+'_std']=train[i].map(std_map)\n",
    "    test[i+'_'+'engagement_score'+'_std']=test[i].map(std_map)\n",
    "    mean_map,max_map,min_map,std_map=0,0,0,0"
   ]
  },
  {
   "cell_type": "code",
   "execution_count": 87,
   "id": "c22e8bbb",
   "metadata": {},
   "outputs": [],
   "source": [
    "from feature_engine.encoding import OneHotEncoder as fe_OneHotEncoder\n",
    "ohe_enc = fe_OneHotEncoder(\n",
    "    top_categories=None,\n",
    "    variables=['gender', 'profession'],  # we can select which variables to encode\n",
    "    drop_last=True)  # to return k-1, false to return k\n",
    "train=train.drop(columns=colstoadd)\n",
    "test=test.drop(columns=colstoadd)"
   ]
  },
  {
   "cell_type": "code",
   "execution_count": 88,
   "id": "14e4f980",
   "metadata": {},
   "outputs": [],
   "source": [
    "train=train.fillna(0)\n",
    "test=test.fillna(0)"
   ]
  },
  {
   "cell_type": "code",
   "execution_count": 89,
   "id": "39a95ba4",
   "metadata": {},
   "outputs": [],
   "source": [
    "train=ohe_enc.fit_transform(train.fillna('Missing').drop(columns=['engagement_score']))\n",
    "test=ohe_enc.transform(test.fillna('Missing'))\n"
   ]
  },
  {
   "cell_type": "code",
   "execution_count": 90,
   "id": "00e803ea",
   "metadata": {},
   "outputs": [],
   "source": [
    "train['engagement_score']=train1['engagement_score']"
   ]
  },
  {
   "cell_type": "code",
   "execution_count": 91,
   "id": "88bb71fd",
   "metadata": {},
   "outputs": [],
   "source": [
    "# data=train.drop(columns=[target])\n",
    "# target=train[target]"
   ]
  },
  {
   "cell_type": "code",
   "execution_count": 92,
   "id": "0c0df14c",
   "metadata": {},
   "outputs": [],
   "source": [
    "# train=train.drop(columns=cols)\n",
    "# test=test.drop(columns=cols)"
   ]
  },
  {
   "cell_type": "code",
   "execution_count": 93,
   "id": "6245b151",
   "metadata": {},
   "outputs": [],
   "source": [
    "# from sklearn.model_selection import GridSearchCV,RandomizedSearchCV,StratifiedKFold\n",
    "# lgb=LGBMRegressor(random_state=42)\n",
    "# parameters={'n_estimators':np.arange(0,1000,100),\n",
    "#            'learning_rate': [0.0145,0.01,0.001],\n",
    "#             'colsample_bytree': [0.5,0.3,0.1,0.7],\n",
    "#             'num_leaves':[5,10,15,20,25,30],\n",
    "#             'min_child_samples':[20,30,40],\n",
    "#             'min_child_weight': [0.001,0.0001,0.002,0.01]\n",
    "#            }\n",
    "# X=train.drop(columns=['engagement_score'])\n",
    "# y=train['engagement_score']\n",
    "# lgbrv=RandomizedSearchCV(lgb,parameters,cv=5,\n",
    "#                               n_iter= 20,scoring='r2',random_state=2,verbose=1,n_jobs=-1)"
   ]
  },
  {
   "cell_type": "code",
   "execution_count": 94,
   "id": "f1a907f0",
   "metadata": {},
   "outputs": [],
   "source": [
    "# X_train, X_test, y_train, y_test = train_test_split(\n",
    "#     train.drop(labels=['engagement_score'], axis=1),  # drop the target\n",
    "#     train['engagement_score'],  # just the target\n",
    "#     test_size=0.25,\n",
    "#     random_state=0)\n",
    "# lgbrv.fit(X_train,y_train)"
   ]
  },
  {
   "cell_type": "code",
   "execution_count": 95,
   "id": "b91b0c4c",
   "metadata": {},
   "outputs": [],
   "source": [
    "# # preds=rf.fit(X_train,y_train).predict(test5)\n",
    "\n",
    "# lgbrv.fit(X_train,y_train)\n",
    "# xgb=lgbrv.best_estimator_"
   ]
  },
  {
   "cell_type": "code",
   "execution_count": 96,
   "id": "0e45fd1f",
   "metadata": {},
   "outputs": [],
   "source": [
    "# study = optuna.create_study(direction='minimize')\n",
    "# study.optimize(objective, n_trials=50)\n",
    "# print('Number of finished trials:', len(study.trials))\n",
    "# print('Best trial:', study.best_trial.params)"
   ]
  },
  {
   "cell_type": "code",
   "execution_count": 97,
   "id": "4a48307f",
   "metadata": {},
   "outputs": [],
   "source": [
    "# cols"
   ]
  },
  {
   "cell_type": "code",
   "execution_count": null,
   "id": "0f1ae3ba",
   "metadata": {},
   "outputs": [],
   "source": []
  },
  {
   "cell_type": "code",
   "execution_count": 130,
   "id": "5c7c665c",
   "metadata": {},
   "outputs": [],
   "source": [
    "params= {'n_estimators':480,'reg_alpha': 9.208871583495077, 'reg_lambda': 0.005377048455752813, 'colsample_bytree': 0.6, 'subsample': 0.7, 'learning_rate': 0.008, 'max_depth': 10, 'num_leaves': 578, 'min_child_samples': 76, 'min_data_per_groups': 1,'random_state':42}"
   ]
  },
  {
   "cell_type": "code",
   "execution_count": 131,
   "id": "36f2bb42",
   "metadata": {},
   "outputs": [
    {
     "name": "stdout",
     "output_type": "stream",
     "text": [
      "0.7415901291380688\n",
      "0.7212956795783358\n"
     ]
    },
    {
     "name": "stderr",
     "output_type": "stream",
     "text": [
      "C:\\Users\\EG569LZ\\Anaconda3\\lib\\site-packages\\lightgbm\\sklearn.py:726: UserWarning: 'early_stopping_rounds' argument is deprecated and will be removed in a future release of LightGBM. Pass 'early_stopping()' callback via 'callbacks' argument instead.\n",
      "  _log_warning(\"'early_stopping_rounds' argument is deprecated and will be removed in a future release of LightGBM. \"\n",
      "C:\\Users\\EG569LZ\\Anaconda3\\lib\\site-packages\\lightgbm\\sklearn.py:736: UserWarning: 'verbose' argument is deprecated and will be removed in a future release of LightGBM. Pass 'log_evaluation()' callback via 'callbacks' argument instead.\n",
      "  _log_warning(\"'verbose' argument is deprecated and will be removed in a future release of LightGBM. \"\n"
     ]
    },
    {
     "name": "stdout",
     "output_type": "stream",
     "text": [
      "[LightGBM] [Warning] Unknown parameter: min_data_per_groups\n",
      "0.7425271178978881\n",
      "0.7189176305320932\n"
     ]
    },
    {
     "name": "stderr",
     "output_type": "stream",
     "text": [
      "C:\\Users\\EG569LZ\\Anaconda3\\lib\\site-packages\\lightgbm\\sklearn.py:726: UserWarning: 'early_stopping_rounds' argument is deprecated and will be removed in a future release of LightGBM. Pass 'early_stopping()' callback via 'callbacks' argument instead.\n",
      "  _log_warning(\"'early_stopping_rounds' argument is deprecated and will be removed in a future release of LightGBM. \"\n",
      "C:\\Users\\EG569LZ\\Anaconda3\\lib\\site-packages\\lightgbm\\sklearn.py:736: UserWarning: 'verbose' argument is deprecated and will be removed in a future release of LightGBM. Pass 'log_evaluation()' callback via 'callbacks' argument instead.\n",
      "  _log_warning(\"'verbose' argument is deprecated and will be removed in a future release of LightGBM. \"\n"
     ]
    },
    {
     "name": "stdout",
     "output_type": "stream",
     "text": [
      "[LightGBM] [Warning] Unknown parameter: min_data_per_groups\n",
      "0.7436537120047749\n",
      "0.705146231381042\n"
     ]
    },
    {
     "name": "stderr",
     "output_type": "stream",
     "text": [
      "C:\\Users\\EG569LZ\\Anaconda3\\lib\\site-packages\\lightgbm\\sklearn.py:726: UserWarning: 'early_stopping_rounds' argument is deprecated and will be removed in a future release of LightGBM. Pass 'early_stopping()' callback via 'callbacks' argument instead.\n",
      "  _log_warning(\"'early_stopping_rounds' argument is deprecated and will be removed in a future release of LightGBM. \"\n",
      "C:\\Users\\EG569LZ\\Anaconda3\\lib\\site-packages\\lightgbm\\sklearn.py:736: UserWarning: 'verbose' argument is deprecated and will be removed in a future release of LightGBM. Pass 'log_evaluation()' callback via 'callbacks' argument instead.\n",
      "  _log_warning(\"'verbose' argument is deprecated and will be removed in a future release of LightGBM. \"\n"
     ]
    },
    {
     "name": "stdout",
     "output_type": "stream",
     "text": [
      "[LightGBM] [Warning] Unknown parameter: min_data_per_groups\n",
      "0.7429612309551157\n",
      "0.7183487737332386\n"
     ]
    },
    {
     "name": "stderr",
     "output_type": "stream",
     "text": [
      "C:\\Users\\EG569LZ\\Anaconda3\\lib\\site-packages\\lightgbm\\sklearn.py:726: UserWarning: 'early_stopping_rounds' argument is deprecated and will be removed in a future release of LightGBM. Pass 'early_stopping()' callback via 'callbacks' argument instead.\n",
      "  _log_warning(\"'early_stopping_rounds' argument is deprecated and will be removed in a future release of LightGBM. \"\n",
      "C:\\Users\\EG569LZ\\Anaconda3\\lib\\site-packages\\lightgbm\\sklearn.py:736: UserWarning: 'verbose' argument is deprecated and will be removed in a future release of LightGBM. Pass 'log_evaluation()' callback via 'callbacks' argument instead.\n",
      "  _log_warning(\"'verbose' argument is deprecated and will be removed in a future release of LightGBM. \"\n"
     ]
    },
    {
     "name": "stdout",
     "output_type": "stream",
     "text": [
      "[LightGBM] [Warning] Unknown parameter: min_data_per_groups\n",
      "0.7416155216781539\n",
      "0.7225271377722984\n"
     ]
    },
    {
     "name": "stderr",
     "output_type": "stream",
     "text": [
      "C:\\Users\\EG569LZ\\Anaconda3\\lib\\site-packages\\lightgbm\\sklearn.py:726: UserWarning: 'early_stopping_rounds' argument is deprecated and will be removed in a future release of LightGBM. Pass 'early_stopping()' callback via 'callbacks' argument instead.\n",
      "  _log_warning(\"'early_stopping_rounds' argument is deprecated and will be removed in a future release of LightGBM. \"\n",
      "C:\\Users\\EG569LZ\\Anaconda3\\lib\\site-packages\\lightgbm\\sklearn.py:736: UserWarning: 'verbose' argument is deprecated and will be removed in a future release of LightGBM. Pass 'log_evaluation()' callback via 'callbacks' argument instead.\n",
      "  _log_warning(\"'verbose' argument is deprecated and will be removed in a future release of LightGBM. \"\n"
     ]
    },
    {
     "name": "stdout",
     "output_type": "stream",
     "text": [
      "[LightGBM] [Warning] Unknown parameter: min_data_per_groups\n",
      "0.7412877476495611\n",
      "0.7248468775158381\n"
     ]
    },
    {
     "name": "stderr",
     "output_type": "stream",
     "text": [
      "C:\\Users\\EG569LZ\\Anaconda3\\lib\\site-packages\\lightgbm\\sklearn.py:726: UserWarning: 'early_stopping_rounds' argument is deprecated and will be removed in a future release of LightGBM. Pass 'early_stopping()' callback via 'callbacks' argument instead.\n",
      "  _log_warning(\"'early_stopping_rounds' argument is deprecated and will be removed in a future release of LightGBM. \"\n",
      "C:\\Users\\EG569LZ\\Anaconda3\\lib\\site-packages\\lightgbm\\sklearn.py:736: UserWarning: 'verbose' argument is deprecated and will be removed in a future release of LightGBM. Pass 'log_evaluation()' callback via 'callbacks' argument instead.\n",
      "  _log_warning(\"'verbose' argument is deprecated and will be removed in a future release of LightGBM. \"\n"
     ]
    },
    {
     "name": "stdout",
     "output_type": "stream",
     "text": [
      "[LightGBM] [Warning] Unknown parameter: min_data_per_groups\n",
      "0.7422838588277305\n",
      "0.7220078533846308\n"
     ]
    },
    {
     "name": "stderr",
     "output_type": "stream",
     "text": [
      "C:\\Users\\EG569LZ\\Anaconda3\\lib\\site-packages\\lightgbm\\sklearn.py:726: UserWarning: 'early_stopping_rounds' argument is deprecated and will be removed in a future release of LightGBM. Pass 'early_stopping()' callback via 'callbacks' argument instead.\n",
      "  _log_warning(\"'early_stopping_rounds' argument is deprecated and will be removed in a future release of LightGBM. \"\n",
      "C:\\Users\\EG569LZ\\Anaconda3\\lib\\site-packages\\lightgbm\\sklearn.py:736: UserWarning: 'verbose' argument is deprecated and will be removed in a future release of LightGBM. Pass 'log_evaluation()' callback via 'callbacks' argument instead.\n",
      "  _log_warning(\"'verbose' argument is deprecated and will be removed in a future release of LightGBM. \"\n"
     ]
    },
    {
     "name": "stdout",
     "output_type": "stream",
     "text": [
      "[LightGBM] [Warning] Unknown parameter: min_data_per_groups\n",
      "0.74322744537367\n",
      "0.7131262543320801\n"
     ]
    },
    {
     "name": "stderr",
     "output_type": "stream",
     "text": [
      "C:\\Users\\EG569LZ\\Anaconda3\\lib\\site-packages\\lightgbm\\sklearn.py:726: UserWarning: 'early_stopping_rounds' argument is deprecated and will be removed in a future release of LightGBM. Pass 'early_stopping()' callback via 'callbacks' argument instead.\n",
      "  _log_warning(\"'early_stopping_rounds' argument is deprecated and will be removed in a future release of LightGBM. \"\n",
      "C:\\Users\\EG569LZ\\Anaconda3\\lib\\site-packages\\lightgbm\\sklearn.py:736: UserWarning: 'verbose' argument is deprecated and will be removed in a future release of LightGBM. Pass 'log_evaluation()' callback via 'callbacks' argument instead.\n",
      "  _log_warning(\"'verbose' argument is deprecated and will be removed in a future release of LightGBM. \"\n"
     ]
    },
    {
     "name": "stdout",
     "output_type": "stream",
     "text": [
      "[LightGBM] [Warning] Unknown parameter: min_data_per_groups\n",
      "0.7417964925091377\n",
      "0.7233913535161388\n"
     ]
    },
    {
     "name": "stderr",
     "output_type": "stream",
     "text": [
      "C:\\Users\\EG569LZ\\Anaconda3\\lib\\site-packages\\lightgbm\\sklearn.py:726: UserWarning: 'early_stopping_rounds' argument is deprecated and will be removed in a future release of LightGBM. Pass 'early_stopping()' callback via 'callbacks' argument instead.\n",
      "  _log_warning(\"'early_stopping_rounds' argument is deprecated and will be removed in a future release of LightGBM. \"\n",
      "C:\\Users\\EG569LZ\\Anaconda3\\lib\\site-packages\\lightgbm\\sklearn.py:736: UserWarning: 'verbose' argument is deprecated and will be removed in a future release of LightGBM. Pass 'log_evaluation()' callback via 'callbacks' argument instead.\n",
      "  _log_warning(\"'verbose' argument is deprecated and will be removed in a future release of LightGBM. \"\n"
     ]
    },
    {
     "name": "stdout",
     "output_type": "stream",
     "text": [
      "[LightGBM] [Warning] Unknown parameter: min_data_per_groups\n",
      "0.7428943030948006\n",
      "0.7153599828055129\n"
     ]
    }
   ],
   "source": [
    "# train_data=train.select_dtypes([int,float])\n",
    "# test_data=test.select_dtypes([int,float])\n",
    "columns = [i for i in train.columns if i!='engagement_score']\n",
    "preds = np.zeros(test.shape[0])\n",
    "kf = KFold(n_splits=10)\n",
    "rmse=[]  # list contains rmse for each fold\n",
    "n=0\n",
    "feat_imp=pd.DataFrame()\n",
    "count=1\n",
    "for trn_idx, test_idx in kf.split(train[columns],train[target]):\n",
    "    X_tr,X_val=train[columns].iloc[trn_idx],train[columns].iloc[test_idx]\n",
    "    y_tr,y_val=train[target].iloc[trn_idx],train[target].iloc[test_idx]\n",
    "    model = LGBMRegressor(**params)\n",
    "    count+=1\n",
    "    model.fit(X_tr,y_tr,eval_set=[(X_val,y_val)],early_stopping_rounds=100,verbose=False)\n",
    "    feature_imp = pd.DataFrame({f'Value_{count}':model.feature_importances_,f'Feature':model.feature_name_})\n",
    "    feat_imp=pd.concat([feat_imp,feature_imp],axis=1)\n",
    "    preds+=model.predict(test[columns])/kf.n_splits\n",
    "    print(r2_score(y_tr, model.predict(X_tr)))\n",
    "    print(r2_score(y_val, model.predict(X_val)))\n",
    "    n+=1"
   ]
  },
  {
   "cell_type": "code",
   "execution_count": null,
   "id": "11f75dc1",
   "metadata": {},
   "outputs": [],
   "source": []
  },
  {
   "cell_type": "code",
   "execution_count": 132,
   "id": "e5f584cb",
   "metadata": {},
   "outputs": [],
   "source": [
    "feat_imp1 = feat_imp.loc[:,~feat_imp.columns.duplicated()].copy()"
   ]
  },
  {
   "cell_type": "code",
   "execution_count": 133,
   "id": "9778b384",
   "metadata": {},
   "outputs": [
    {
     "name": "stderr",
     "output_type": "stream",
     "text": [
      "<ipython-input-133-aaf74bd9c10c>:1: FutureWarning: Dropping of nuisance columns in DataFrame reductions (with 'numeric_only=None') is deprecated; in a future version this will raise TypeError.  Select only valid columns before calling the reduction.\n",
      "  feat_imp1['imp']=feat_imp1.mean(axis=1)\n"
     ]
    }
   ],
   "source": [
    "feat_imp1['imp']=feat_imp1.mean(axis=1)"
   ]
  },
  {
   "cell_type": "code",
   "execution_count": 134,
   "id": "9feb8de4",
   "metadata": {},
   "outputs": [],
   "source": [
    "feat_imp1=feat_imp1.sort_values(by=['imp'],ascending=False)"
   ]
  },
  {
   "cell_type": "code",
   "execution_count": 142,
   "id": "1b6238d0",
   "metadata": {},
   "outputs": [],
   "source": [
    "pd.set_option('display.max_rows',None)\n",
    "cols=feat_imp1.iloc[0:56]['Feature'].values"
   ]
  },
  {
   "cell_type": "code",
   "execution_count": 143,
   "id": "51ff2697",
   "metadata": {},
   "outputs": [
    {
     "name": "stderr",
     "output_type": "stream",
     "text": [
      "C:\\Users\\EG569LZ\\Anaconda3\\lib\\site-packages\\lightgbm\\sklearn.py:726: UserWarning: 'early_stopping_rounds' argument is deprecated and will be removed in a future release of LightGBM. Pass 'early_stopping()' callback via 'callbacks' argument instead.\n",
      "  _log_warning(\"'early_stopping_rounds' argument is deprecated and will be removed in a future release of LightGBM. \"\n",
      "C:\\Users\\EG569LZ\\Anaconda3\\lib\\site-packages\\lightgbm\\sklearn.py:736: UserWarning: 'verbose' argument is deprecated and will be removed in a future release of LightGBM. Pass 'log_evaluation()' callback via 'callbacks' argument instead.\n",
      "  _log_warning(\"'verbose' argument is deprecated and will be removed in a future release of LightGBM. \"\n"
     ]
    },
    {
     "name": "stdout",
     "output_type": "stream",
     "text": [
      "[LightGBM] [Warning] Unknown parameter: min_data_per_groups\n",
      "0.7418230060211756\n",
      "0.7214260128638422\n",
      "[LightGBM] [Warning] Unknown parameter: min_data_per_groups\n"
     ]
    },
    {
     "name": "stderr",
     "output_type": "stream",
     "text": [
      "C:\\Users\\EG569LZ\\Anaconda3\\lib\\site-packages\\lightgbm\\sklearn.py:726: UserWarning: 'early_stopping_rounds' argument is deprecated and will be removed in a future release of LightGBM. Pass 'early_stopping()' callback via 'callbacks' argument instead.\n",
      "  _log_warning(\"'early_stopping_rounds' argument is deprecated and will be removed in a future release of LightGBM. \"\n",
      "C:\\Users\\EG569LZ\\Anaconda3\\lib\\site-packages\\lightgbm\\sklearn.py:736: UserWarning: 'verbose' argument is deprecated and will be removed in a future release of LightGBM. Pass 'log_evaluation()' callback via 'callbacks' argument instead.\n",
      "  _log_warning(\"'verbose' argument is deprecated and will be removed in a future release of LightGBM. \"\n"
     ]
    },
    {
     "name": "stdout",
     "output_type": "stream",
     "text": [
      "0.7424224415539292\n",
      "0.7194593090293357\n"
     ]
    },
    {
     "name": "stderr",
     "output_type": "stream",
     "text": [
      "C:\\Users\\EG569LZ\\Anaconda3\\lib\\site-packages\\lightgbm\\sklearn.py:726: UserWarning: 'early_stopping_rounds' argument is deprecated and will be removed in a future release of LightGBM. Pass 'early_stopping()' callback via 'callbacks' argument instead.\n",
      "  _log_warning(\"'early_stopping_rounds' argument is deprecated and will be removed in a future release of LightGBM. \"\n",
      "C:\\Users\\EG569LZ\\Anaconda3\\lib\\site-packages\\lightgbm\\sklearn.py:736: UserWarning: 'verbose' argument is deprecated and will be removed in a future release of LightGBM. Pass 'log_evaluation()' callback via 'callbacks' argument instead.\n",
      "  _log_warning(\"'verbose' argument is deprecated and will be removed in a future release of LightGBM. \"\n"
     ]
    },
    {
     "name": "stdout",
     "output_type": "stream",
     "text": [
      "[LightGBM] [Warning] Unknown parameter: min_data_per_groups\n",
      "0.74369112750589\n",
      "0.7053869104912438\n",
      "[LightGBM] [Warning] Unknown parameter: min_data_per_groups\n"
     ]
    },
    {
     "name": "stderr",
     "output_type": "stream",
     "text": [
      "C:\\Users\\EG569LZ\\Anaconda3\\lib\\site-packages\\lightgbm\\sklearn.py:726: UserWarning: 'early_stopping_rounds' argument is deprecated and will be removed in a future release of LightGBM. Pass 'early_stopping()' callback via 'callbacks' argument instead.\n",
      "  _log_warning(\"'early_stopping_rounds' argument is deprecated and will be removed in a future release of LightGBM. \"\n",
      "C:\\Users\\EG569LZ\\Anaconda3\\lib\\site-packages\\lightgbm\\sklearn.py:736: UserWarning: 'verbose' argument is deprecated and will be removed in a future release of LightGBM. Pass 'log_evaluation()' callback via 'callbacks' argument instead.\n",
      "  _log_warning(\"'verbose' argument is deprecated and will be removed in a future release of LightGBM. \"\n"
     ]
    },
    {
     "name": "stdout",
     "output_type": "stream",
     "text": [
      "0.7428681389025752\n",
      "0.7178682506129332\n",
      "[LightGBM] [Warning] Unknown parameter: min_data_per_groups\n"
     ]
    },
    {
     "name": "stderr",
     "output_type": "stream",
     "text": [
      "C:\\Users\\EG569LZ\\Anaconda3\\lib\\site-packages\\lightgbm\\sklearn.py:726: UserWarning: 'early_stopping_rounds' argument is deprecated and will be removed in a future release of LightGBM. Pass 'early_stopping()' callback via 'callbacks' argument instead.\n",
      "  _log_warning(\"'early_stopping_rounds' argument is deprecated and will be removed in a future release of LightGBM. \"\n",
      "C:\\Users\\EG569LZ\\Anaconda3\\lib\\site-packages\\lightgbm\\sklearn.py:736: UserWarning: 'verbose' argument is deprecated and will be removed in a future release of LightGBM. Pass 'log_evaluation()' callback via 'callbacks' argument instead.\n",
      "  _log_warning(\"'verbose' argument is deprecated and will be removed in a future release of LightGBM. \"\n"
     ]
    },
    {
     "name": "stdout",
     "output_type": "stream",
     "text": [
      "0.7419260094278982\n",
      "0.722999354660138\n",
      "[LightGBM] [Warning] Unknown parameter: min_data_per_groups\n"
     ]
    },
    {
     "name": "stderr",
     "output_type": "stream",
     "text": [
      "C:\\Users\\EG569LZ\\Anaconda3\\lib\\site-packages\\lightgbm\\sklearn.py:726: UserWarning: 'early_stopping_rounds' argument is deprecated and will be removed in a future release of LightGBM. Pass 'early_stopping()' callback via 'callbacks' argument instead.\n",
      "  _log_warning(\"'early_stopping_rounds' argument is deprecated and will be removed in a future release of LightGBM. \"\n",
      "C:\\Users\\EG569LZ\\Anaconda3\\lib\\site-packages\\lightgbm\\sklearn.py:736: UserWarning: 'verbose' argument is deprecated and will be removed in a future release of LightGBM. Pass 'log_evaluation()' callback via 'callbacks' argument instead.\n",
      "  _log_warning(\"'verbose' argument is deprecated and will be removed in a future release of LightGBM. \"\n"
     ]
    },
    {
     "name": "stdout",
     "output_type": "stream",
     "text": [
      "0.7413744106205642\n",
      "0.7250190777939312\n",
      "[LightGBM] [Warning] Unknown parameter: min_data_per_groups\n"
     ]
    },
    {
     "name": "stderr",
     "output_type": "stream",
     "text": [
      "C:\\Users\\EG569LZ\\Anaconda3\\lib\\site-packages\\lightgbm\\sklearn.py:726: UserWarning: 'early_stopping_rounds' argument is deprecated and will be removed in a future release of LightGBM. Pass 'early_stopping()' callback via 'callbacks' argument instead.\n",
      "  _log_warning(\"'early_stopping_rounds' argument is deprecated and will be removed in a future release of LightGBM. \"\n",
      "C:\\Users\\EG569LZ\\Anaconda3\\lib\\site-packages\\lightgbm\\sklearn.py:736: UserWarning: 'verbose' argument is deprecated and will be removed in a future release of LightGBM. Pass 'log_evaluation()' callback via 'callbacks' argument instead.\n",
      "  _log_warning(\"'verbose' argument is deprecated and will be removed in a future release of LightGBM. \"\n"
     ]
    },
    {
     "name": "stdout",
     "output_type": "stream",
     "text": [
      "0.7423557217932957\n",
      "0.722334480114416\n"
     ]
    },
    {
     "name": "stderr",
     "output_type": "stream",
     "text": [
      "C:\\Users\\EG569LZ\\Anaconda3\\lib\\site-packages\\lightgbm\\sklearn.py:726: UserWarning: 'early_stopping_rounds' argument is deprecated and will be removed in a future release of LightGBM. Pass 'early_stopping()' callback via 'callbacks' argument instead.\n",
      "  _log_warning(\"'early_stopping_rounds' argument is deprecated and will be removed in a future release of LightGBM. \"\n",
      "C:\\Users\\EG569LZ\\Anaconda3\\lib\\site-packages\\lightgbm\\sklearn.py:736: UserWarning: 'verbose' argument is deprecated and will be removed in a future release of LightGBM. Pass 'log_evaluation()' callback via 'callbacks' argument instead.\n",
      "  _log_warning(\"'verbose' argument is deprecated and will be removed in a future release of LightGBM. \"\n"
     ]
    },
    {
     "name": "stdout",
     "output_type": "stream",
     "text": [
      "[LightGBM] [Warning] Unknown parameter: min_data_per_groups\n",
      "0.7430954304795322\n",
      "0.7129637969921804\n"
     ]
    },
    {
     "name": "stderr",
     "output_type": "stream",
     "text": [
      "C:\\Users\\EG569LZ\\Anaconda3\\lib\\site-packages\\lightgbm\\sklearn.py:726: UserWarning: 'early_stopping_rounds' argument is deprecated and will be removed in a future release of LightGBM. Pass 'early_stopping()' callback via 'callbacks' argument instead.\n",
      "  _log_warning(\"'early_stopping_rounds' argument is deprecated and will be removed in a future release of LightGBM. \"\n",
      "C:\\Users\\EG569LZ\\Anaconda3\\lib\\site-packages\\lightgbm\\sklearn.py:736: UserWarning: 'verbose' argument is deprecated and will be removed in a future release of LightGBM. Pass 'log_evaluation()' callback via 'callbacks' argument instead.\n",
      "  _log_warning(\"'verbose' argument is deprecated and will be removed in a future release of LightGBM. \"\n"
     ]
    },
    {
     "name": "stdout",
     "output_type": "stream",
     "text": [
      "[LightGBM] [Warning] Unknown parameter: min_data_per_groups\n",
      "0.7418992568513384\n",
      "0.7235850657692513\n"
     ]
    },
    {
     "name": "stderr",
     "output_type": "stream",
     "text": [
      "C:\\Users\\EG569LZ\\Anaconda3\\lib\\site-packages\\lightgbm\\sklearn.py:726: UserWarning: 'early_stopping_rounds' argument is deprecated and will be removed in a future release of LightGBM. Pass 'early_stopping()' callback via 'callbacks' argument instead.\n",
      "  _log_warning(\"'early_stopping_rounds' argument is deprecated and will be removed in a future release of LightGBM. \"\n",
      "C:\\Users\\EG569LZ\\Anaconda3\\lib\\site-packages\\lightgbm\\sklearn.py:736: UserWarning: 'verbose' argument is deprecated and will be removed in a future release of LightGBM. Pass 'log_evaluation()' callback via 'callbacks' argument instead.\n",
      "  _log_warning(\"'verbose' argument is deprecated and will be removed in a future release of LightGBM. \"\n"
     ]
    },
    {
     "name": "stdout",
     "output_type": "stream",
     "text": [
      "[LightGBM] [Warning] Unknown parameter: min_data_per_groups\n",
      "0.7430171164261146\n",
      "0.7157570936604811\n"
     ]
    }
   ],
   "source": [
    "columns = cols\n",
    "preds = np.zeros(test.shape[0])\n",
    "kf = KFold(n_splits=10)\n",
    "rmse=[]  # list contains rmse for each fold\n",
    "n=0\n",
    "feat_imp=pd.DataFrame()\n",
    "count=1\n",
    "for trn_idx, test_idx in kf.split(train[columns],train[target]):\n",
    "    X_tr,X_val=train[columns].iloc[trn_idx],train[columns].iloc[test_idx]\n",
    "    y_tr,y_val=train[target].iloc[trn_idx],train[target].iloc[test_idx]\n",
    "    model = LGBMRegressor(**params)\n",
    "    count+=1\n",
    "    model.fit(X_tr,y_tr,eval_set=[(X_val,y_val)],early_stopping_rounds=100,verbose=False)\n",
    "    feature_imp = pd.DataFrame({f'Value_{count}':model.feature_importances_,f'Feature':model.feature_name_})\n",
    "    feat_imp=pd.concat([feat_imp,feature_imp],axis=1)\n",
    "    preds+=model.predict(test[columns])/kf.n_splits\n",
    "    print(r2_score(y_tr, model.predict(X_tr)))\n",
    "    print(r2_score(y_val, model.predict(X_val)))\n",
    "    n+=1"
   ]
  },
  {
   "cell_type": "code",
   "execution_count": null,
   "id": "c5738431",
   "metadata": {},
   "outputs": [],
   "source": []
  },
  {
   "cell_type": "code",
   "execution_count": null,
   "id": "bf1a8d9a",
   "metadata": {},
   "outputs": [],
   "source": []
  },
  {
   "cell_type": "code",
   "execution_count": null,
   "id": "46ff1ade",
   "metadata": {},
   "outputs": [],
   "source": []
  },
  {
   "cell_type": "code",
   "execution_count": null,
   "id": "0076660e",
   "metadata": {},
   "outputs": [],
   "source": [
    "# columns = [i for i in train.columns if i!='engagement_score']\n",
    "# preds = np.zeros(test.shape[0])\n",
    "# kf = KFold(n_splits=5,random_state=48,shuffle=True)\n",
    "# rmse=[]  # list contains rmse for each fold\n",
    "# n=0\n",
    "# for trn_idx, test_idx in kf.split(train[columns],train[target]):\n",
    "#     X_tr,X_val=train[columns].iloc[trn_idx],train[columns].iloc[test_idx]\n",
    "#     y_tr,y_val=train[target].iloc[trn_idx],train[target].iloc[test_idx]\n",
    "#     model = LGBMRegressor(**params)\n",
    "#     model.fit(X_tr,y_tr,eval_set=[(X_val,y_val)],early_stopping_rounds=100,verbose=False)\n",
    "#     preds+=model.predict(test[columns])/kf.n_splits\n",
    "#     print(r2_score(y_tr, model.predict(X_tr)))\n",
    "#     print(r2_score(y_val, model.predict(X_val)))\n",
    "#     n+=1"
   ]
  },
  {
   "cell_type": "code",
   "execution_count": 144,
   "id": "7510e882",
   "metadata": {},
   "outputs": [
    {
     "data": {
      "text/plain": [
       "array([4.20534504, 3.95687806, 2.38998311, ..., 2.97093188, 3.80135401,\n",
       "       2.79179293])"
      ]
     },
     "execution_count": 144,
     "metadata": {},
     "output_type": "execute_result"
    }
   ],
   "source": [
    "preds"
   ]
  },
  {
   "cell_type": "code",
   "execution_count": 146,
   "id": "2523da75",
   "metadata": {},
   "outputs": [],
   "source": [
    "submission=pd.read_csv('sample_submission_JPlpRcN.csv')\n",
    "submission['row_id']=test1['row_id']\n",
    "submission['engagement_score']=preds"
   ]
  },
  {
   "cell_type": "code",
   "execution_count": 147,
   "id": "506f91d0",
   "metadata": {},
   "outputs": [],
   "source": [
    "submission.to_csv('submission3.csv',index=False)"
   ]
  },
  {
   "cell_type": "code",
   "execution_count": null,
   "id": "a767fd54",
   "metadata": {},
   "outputs": [],
   "source": [
    "# from lightgbm import LGBMRegressor\n",
    "# from sklearn.model_selection import GridSearchCV,RandomizedSearchCV, KFold,cross_val_score,StratifiedKFold,cross_validate\n",
    "# from sklearn.preprocessing import MaxAbsScaler,StandardScaler\n",
    "# lgb=LGBMRegressor(random_state=10,max_depth=10)\n",
    "# from sklearn.metrics import mean_squared_error,r2_score\n",
    "# def run_reg_kfold(train,test,model_name=None,target=list(),pred='engagement_score'):\n",
    "#     pred=pred\n",
    "#     predictions = np.zeros(test.shape[0])\n",
    "#     oobs = np.zeros(train.shape[0])\n",
    "#     y = train[pred].values\n",
    "#     #shuffle=True, random_state=123\n",
    "#     repeat=3\n",
    "#     #skf = KFold(n_splits=10,shuffle=True, random_state=123)\n",
    "#     skf=KFold(n_splits=10)\n",
    "#     model = model_name\n",
    "#     X=train.drop(columns=pred).copy()\n",
    "#     y=train[pred].copy()\n",
    "#     print('Regression started')\n",
    "#     X_test=test.drop(columns=target)\n",
    "#     transformer = StandardScaler().fit(X)\n",
    "#     X = transformer.transform(X)\n",
    "#     X_test = transformer.transform(X_test)\n",
    "#     for i, (train_id, valid_id) in enumerate(skf.split(X,y)):\n",
    "#         print(f\"fold {i}\")\n",
    "#         X_train, y_train = X[train_id], y[train_id]\n",
    "#         X_valid, y_valid = X[valid_id], y[valid_id]\n",
    "#         model.fit(X_train, y_train, eval_set =[(X_valid, y_valid)],  early_stopping_rounds=200, verbose=1000, eval_metric='r2')\n",
    "#         oobs[valid_id] = model.predict(X_valid)\n",
    "#         train_preds=model.predict(X_train)\n",
    "#         valid_preds=model.predict(X_valid)\n",
    "#         print(r2_score(y_train,train_preds))\n",
    "#         print(r2_score(y_valid,valid_preds))\n",
    "#         predictions += model.predict(X_test)\n",
    "# #     roc_auc = roc_auc_score(y,oobs)\n",
    "#     finals = predictions/(10)\n",
    "#     lgb_predictions = finals\n",
    "#     return lgb_predictions"
   ]
  },
  {
   "cell_type": "code",
   "execution_count": null,
   "id": "0aa63480",
   "metadata": {},
   "outputs": [],
   "source": []
  },
  {
   "cell_type": "code",
   "execution_count": null,
   "id": "18d09682",
   "metadata": {},
   "outputs": [],
   "source": [
    "run_reg_kfold(train_data,test_data,model_name=lgb,target=list(),pred='engagement_score')"
   ]
  },
  {
   "cell_type": "code",
   "execution_count": null,
   "id": "7d05eed9",
   "metadata": {},
   "outputs": [],
   "source": [
    "pd.to_datetime('11-13-2010', format='%d-%m-%Y')"
   ]
  },
  {
   "cell_type": "code",
   "execution_count": null,
   "id": "a5028e93",
   "metadata": {},
   "outputs": [],
   "source": [
    "def fast(x=[]):\n",
    "    x.append(1)\n",
    "    return x\n",
    "print(fast())\n",
    "print(fast())"
   ]
  },
  {
   "cell_type": "code",
   "execution_count": null,
   "id": "50b2b38b",
   "metadata": {},
   "outputs": [],
   "source": []
  },
  {
   "cell_type": "code",
   "execution_count": null,
   "id": "861938d9",
   "metadata": {},
   "outputs": [],
   "source": []
  },
  {
   "cell_type": "code",
   "execution_count": null,
   "id": "692928e9",
   "metadata": {},
   "outputs": [],
   "source": []
  },
  {
   "cell_type": "code",
   "execution_count": null,
   "id": "3a65b055",
   "metadata": {},
   "outputs": [],
   "source": []
  },
  {
   "cell_type": "code",
   "execution_count": null,
   "id": "134807df",
   "metadata": {},
   "outputs": [],
   "source": []
  }
 ],
 "metadata": {
  "kernelspec": {
   "display_name": "Python 3",
   "language": "python",
   "name": "python3"
  },
  "language_info": {
   "codemirror_mode": {
    "name": "ipython",
    "version": 3
   },
   "file_extension": ".py",
   "mimetype": "text/x-python",
   "name": "python",
   "nbconvert_exporter": "python",
   "pygments_lexer": "ipython3",
   "version": "3.8.8"
  }
 },
 "nbformat": 4,
 "nbformat_minor": 5
}
